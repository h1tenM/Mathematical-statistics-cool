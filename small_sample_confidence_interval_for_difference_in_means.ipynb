{
  "nbformat": 4,
  "nbformat_minor": 0,
  "metadata": {
    "colab": {
      "provenance": []
    },
    "kernelspec": {
      "name": "python3",
      "display_name": "Python 3"
    },
    "language_info": {
      "name": "python"
    }
  },
  "cells": [
    {
      "cell_type": "markdown",
      "source": [
        "This code illustrates how to calculate the confidence inteval for the difference in means if the sample sizes are small.\n",
        "\n",
        "The assumptions are that the data drawn from two normal independent distributions that have the same variance."
      ],
      "metadata": {
        "id": "DSK-atJCOcVh"
      }
    },
    {
      "cell_type": "markdown",
      "source": [
        "The problem is as follows:\n",
        "\n",
        "To reach maximum eﬀiciency in performing an assembly operation in a manufacturing plant, new employees require approximately a 1-month training period. A new method of training was suggested, and a test was conducted to compare the new method with the standard procedure. Two groups of nine new employees each were trained for a period of 3 weeks, one group using the new method and the other following the standard training procedure. The length of time (in minutes) required for each employee to assemble the device was recorded at the end of the 3-week period.\n",
        "\n",
        " Estimate the true mean difference ($\\mu_1 - \\mu_2$) with confidence coeﬀicient $.95$. Assume that the assembly times are approximately normally distributed, that the variances of the assembly times are approximately equal for the two methods, and that the samples are independent."
      ],
      "metadata": {
        "id": "PI6xiyR-OvY3"
      }
    },
    {
      "cell_type": "code",
      "execution_count": null,
      "metadata": {
        "colab": {
          "base_uri": "https://localhost:8080/"
        },
        "id": "zhFHZdnGOPgj",
        "outputId": "a3bb71e3-f3b3-49e7-a25e-e6e72e429ef6"
      },
      "outputs": [
        {
          "output_type": "stream",
          "name": "stdout",
          "text": [
            "Group 1 mean (new method): 20.556 minutes\n",
            "Group 2 mean (standard):   26.011 minutes\n",
            "Mean difference (new - standard): -5.456 minutes\n",
            "95% Confidence Interval for the difference (μ1 - μ2):\n",
            "[-7.225, -3.686]\n"
          ]
        }
      ],
      "source": [
        "import numpy as np\n",
        "import scipy.stats as stats\n",
        "\n",
        "# Example data for 9 employees in each group\n",
        "# Group 1 (new method)\n",
        "group1 = np.array([20.2, 22.1, 18.6, 21.3, 19.8, 23.0, 21.7, 17.9, 20.4])\n",
        "\n",
        "# Group 2 (standard method)\n",
        "group2 = np.array([25.4, 24.2, 28.1, 27.6, 29.0, 25.3, 23.9, 24.1, 26.5])\n",
        "\n",
        "# Sample sizes\n",
        "n1 = len(group1)\n",
        "n2 = len(group2)\n",
        "\n",
        "# Sample means\n",
        "mean1 = np.mean(group1)\n",
        "mean2 = np.mean(group2)\n",
        "\n",
        "# Sample variances (unbiased, so use ddof=1)\n",
        "var1 = np.var(group1, ddof=1)\n",
        "var2 = np.var(group2, ddof=1)\n",
        "\n",
        "# Pooled variance, assuming equal variances\n",
        "sp_squared = ((n1 - 1)*var1 + (n2 - 1)*var2) / (n1 + n2 - 2)\n",
        "sp = np.sqrt(sp_squared)\n",
        "\n",
        "# Mean difference\n",
        "mean_diff = mean1 - mean2\n",
        "\n",
        "# Standard error for the difference in means under equal variances\n",
        "se_diff = sp * np.sqrt((1/n1) + (1/n2))\n",
        "\n",
        "# Degrees of freedom\n",
        "df = n1 + n2 - 2\n",
        "\n",
        "# Confidence level\n",
        "alpha = 0.05  # for a 95% confidence interval\n",
        "t_crit = stats.t.ppf(1 - alpha/2, df)\n",
        "\n",
        "# Confidence interval\n",
        "ci_lower = mean_diff - t_crit * se_diff\n",
        "ci_upper = mean_diff + t_crit * se_diff\n",
        "\n",
        "print(f\"Group 1 mean (new method): {mean1:.3f} minutes\")\n",
        "print(f\"Group 2 mean (standard):   {mean2:.3f} minutes\")\n",
        "print(f\"Mean difference (new - standard): {mean_diff:.3f} minutes\")\n",
        "print(f\"95% Confidence Interval for the difference (μ1 - μ2):\")\n",
        "print(f\"[{ci_lower:.3f}, {ci_upper:.3f}]\")\n"
      ]
    }
  ]
}