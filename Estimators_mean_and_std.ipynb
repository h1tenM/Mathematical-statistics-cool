{
  "nbformat": 4,
  "nbformat_minor": 0,
  "metadata": {
    "colab": {
      "provenance": []
    },
    "kernelspec": {
      "name": "python3",
      "display_name": "Python 3"
    },
    "language_info": {
      "name": "python"
    }
  },
  "cells": [
    {
      "cell_type": "markdown",
      "source": [
        "The article “A Longitudinal Study of the Development of Elementary School Children’s Private Speech” by Bivens and Berk (Merrill-Palmer Q., 1990: 443–463) reported on a study of children talking to themselves (private speech).\n",
        "\n",
        "(The study was motivated by theories in psychology that claim that private speech plays an important role in a child mental development, so one can investigate how private speech is related to IQ (that is, performance on math or verbal tasks) or to changes in IQ. The study found some supporting evidence that task-related private speech is positively related to future changes in IQ. Here we are only interested in IQ data.)\n",
        "\n",
        "The study included $33$ students whose first-grade IQ scores are given here:\n",
        "\n",
        "082 096 099 102 103 103 106 107 108 108 108 108 109 110 110 111 113 113 113 113 115 115 118 118 119 121 122 122 127 132 136 140 146\n",
        "\n",
        "(a) Suppose we want an estimate of the average value of IQ for the first graders served by this school. What is an unbiased estimate for this parameter?\n",
        "\n",
        "\n",
        "(b) Calculate and interpret a point estimate of the population standard\n",
        "deviation σ.\n",
        "\n",
        "(c) Based on the 2-standard-error bound, is the class average significantly different from 100?"
      ],
      "metadata": {
        "id": "f90PABb4mWo9"
      }
    },
    {
      "cell_type": "code",
      "execution_count": null,
      "metadata": {
        "colab": {
          "base_uri": "https://localhost:8080/"
        },
        "id": "hweWfkyZmGyD",
        "outputId": "f5b9daa4-c244-47c4-8531-530bbd20970e"
      },
      "outputs": [
        {
          "output_type": "stream",
          "name": "stdout",
          "text": [
            "Sample Mean (Unbiased Estimate of Population Mean): 113.7273\n",
            "Sample Standard Deviation (Point Estimate of Population Std Dev): 12.7433\n"
          ]
        }
      ],
      "source": [
        "import numpy as np\n",
        "\n",
        "iq_scores = np.array([82, 96, 99, 102, 103, 103, 106, 107, 108, 108, 108, 108,\n",
        "                      109, 110, 110, 111, 113, 113, 113, 113, 115, 115, 118, 118, 119, 121, 122, 122, 127, 132, 136, 140, 146])\n",
        "\n",
        "\n",
        "total_sum = np.sum(iq_scores)  #  sum of IQ scores\n",
        "print(total_sum)\n",
        "sum_of_squares = np.sum(iq_scores ** 2)  # sum of squared IQ scores\n",
        "print(sum_of_squares)\n",
        "n = iq_scores.shape[0]  # Number of students\n",
        "\n",
        "# Part (a): Compute the sample mean\n",
        "sample_mean = total_sum / n\n",
        "print(f\"Sample Mean (Unbiased Estimate of Population Mean): {sample_mean:.4f}\")\n",
        "\n",
        "# Part (b): Compute the sample standard deviation\n",
        "\n",
        "sample_variance = (sum_of_squares - (total_sum ** 2) / n) / (n - 1)\n",
        "sample_std_dev = np.sqrt(sample_variance)\n",
        "print(f\"Sample Standard Deviation (Point Estimate of Population Std Dev): {sample_std_dev:.4f}\")"
      ]
    }
  ]
}